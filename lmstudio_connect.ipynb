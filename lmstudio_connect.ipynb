{
 "cells": [
  {
   "cell_type": "code",
   "execution_count": 5,
   "metadata": {},
   "outputs": [],
   "source": [
    "# %pip install llama-index-core llama-index llama-index-llms-lmstudio"
   ]
  },
  {
   "cell_type": "code",
   "execution_count": 1,
   "metadata": {},
   "outputs": [],
   "source": [
    "# Fix for \"RuntimeError: This event loop is already running\"\n",
    "import nest_asyncio\n",
    "nest_asyncio.apply()\n",
    "\n",
    "from llama_index.llms.lmstudio import LMStudio\n",
    "from llama_index.core.base.llms.types import ChatMessage, MessageRole"
   ]
  },
  {
   "cell_type": "code",
   "execution_count": 2,
   "metadata": {},
   "outputs": [],
   "source": [
    "ip = '192.168.29.122'\n",
    "port = 9000\n",
    "\n",
    "llm = LMStudio(\n",
    "    model_name=\"RichardErkhov/unsloth_-_llama-3-8b-Instruct-gguf\",\n",
    "    base_url=f\"http://{ip}:{port}/v1\",\n",
    "    temperature=0.2,\n",
    ")"
   ]
  },
  {
   "cell_type": "code",
   "execution_count": 3,
   "metadata": {},
   "outputs": [
    {
     "name": "stdout",
     "output_type": "stream",
     "text": [
      "That's an easy one! The answer is 4. Would you like me to help with anything else?\n"
     ]
    }
   ],
   "source": [
    "response = llm.complete(\"Hey there, what is 2+2?\")\n",
    "print(str(response))"
   ]
  },
  {
   "cell_type": "code",
   "execution_count": 7,
   "metadata": {},
   "outputs": [
    {
     "name": "stdout",
     "output_type": "stream",
     "text": [
      "The answer to 7+3 is 10."
     ]
    }
   ],
   "source": [
    "# use llm.stream_complete\n",
    "response = llm.stream_complete(\"What is 7+3?\")\n",
    "for r in response:\n",
    "    print(r.delta, end=\"\")"
   ]
  },
  {
   "cell_type": "code",
   "execution_count": 6,
   "metadata": {},
   "outputs": [],
   "source": [
    "messages = [\n",
    "    ChatMessage(\n",
    "        role=MessageRole.SYSTEM,\n",
    "        content=\"You an expert AI assistant. Help User with their queries.\",\n",
    "    ),\n",
    "    ChatMessage(\n",
    "        role=MessageRole.USER,\n",
    "        content=\"What is the significance of the number 420?\",\n",
    "    ),\n",
    "]"
   ]
  },
  {
   "cell_type": "code",
   "execution_count": 8,
   "metadata": {},
   "outputs": [
    {
     "name": "stdout",
     "output_type": "stream",
     "text": [
      "The number 420 has gained significant cultural and historical importance in recent years, particularly among fans of the TV show \"South Park\" and enthusiasts of conspiracy theories.\n",
      "\n",
      "In \"South Park,\" the number 420 has become a recurring theme, often used as a punchline or inside joke. The show's creators, Trey Parker and Matt Stone, have confirmed that they chose this number randomly for a joke about marijuana use, which is a frequent topic in the show.\n",
      "\n",
      "However, some fans of the show began to interpret the number 420 as having deeper meaning, such as representing the \"perfect high\" or symbolizing the show's irreverent humor. This led to the proliferation of \"420 culture,\" with many people celebrating April 20th (4/20) as a day for cannabis use and other forms of self-expression.\n",
      "\n",
      "Beyond its association with \"South Park,\" the number 420 has also been linked to various conspiracy theories, such as claims that it represents a code or cipher related to extraterrestrial life, government cover-ups, or other mysterious events. While these claims are largely unfounded and lack credible evidence, they have contributed to the number's widespread cultural significance.\n",
      "\n",
      "In summary, the significance of the number 420 lies in its connection to popular culture (specifically \"South Park\"), as well as its role in fueling conspiracy theories and internet memes."
     ]
    }
   ],
   "source": [
    "response = llm.stream_chat(messages=messages)\n",
    "for r in response:\n",
    "    print(r.delta, end=\"\")"
   ]
  },
  {
   "cell_type": "code",
   "execution_count": null,
   "metadata": {},
   "outputs": [],
   "source": [
    "response = llm.chat(messages=messages)\n",
    "print(str(response))"
   ]
  }
 ],
 "metadata": {
  "kernelspec": {
   "display_name": ".venv",
   "language": "python",
   "name": "python3"
  },
  "language_info": {
   "codemirror_mode": {
    "name": "ipython",
    "version": 3
   },
   "file_extension": ".py",
   "mimetype": "text/x-python",
   "name": "python",
   "nbconvert_exporter": "python",
   "pygments_lexer": "ipython3",
   "version": "3.11.3"
  }
 },
 "nbformat": 4,
 "nbformat_minor": 2
}
